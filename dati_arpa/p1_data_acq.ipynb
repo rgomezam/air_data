{
 "cells": [
  {
   "attachments": {},
   "cell_type": "markdown",
   "metadata": {},
   "source": [
    "## one option to download a full url is urllib\n",
    "I used this to get the url the fitst time, it was useful to identify the names of the 3 json files that I need. Once I know those, I can just download the json with pandas"
   ]
  },
  {
   "cell_type": "code",
   "execution_count": 1,
   "metadata": {},
   "outputs": [
    {
     "data": {
      "text/plain": [
       "('input/giornaliero.html', <http.client.HTTPMessage at 0x7fc23fb1d270>)"
      ]
     },
     "execution_count": 1,
     "metadata": {},
     "output_type": "execute_result"
    }
   ],
   "source": [
    "import urllib.request\n",
    "URL = \"https://www.arpa.piemonte.it/rischi_naturali/snippets_arpa/report_giornaliero_pm10/\"\n",
    "urllib.request.urlretrieve(URL, \"input/giornaliero.html\")"
   ]
  },
  {
   "attachments": {},
   "cell_type": "markdown",
   "metadata": {},
   "source": [
    "from giornaliero.html I extracted the names of the generic json files. I use **os** because I didnt figure how to download the json file keeping its structure! (urllib didnt work)\n",
    "\n",
    "to-do: automatise to save as \"todays date\" instead of \"current\"\n",
    " "
   ]
  },
  {
   "cell_type": "code",
   "execution_count": 23,
   "metadata": {},
   "outputs": [],
   "source": [
    "from datetime import datetime\n",
    "now = datetime.now()\n",
    "filename1 = \"PM10_\" + now.strftime(\"%d_%m_%Y\")"
   ]
  },
  {
   "cell_type": "code",
   "execution_count": 24,
   "metadata": {},
   "outputs": [
    {
     "name": "stderr",
     "output_type": "stream",
     "text": [
      "  % Total    % Received % Xferd  Average Speed   Time    Time     Time  Current\n",
      "                                 Dload  Upload   Total   Spent    Left  Speed\n",
      "100  2690  100  2690    0     0  28735      0 --:--:-- --:--:-- --:--:-- 38428\n"
     ]
    },
    {
     "data": {
      "text/plain": [
       "0"
      ]
     },
     "execution_count": 24,
     "metadata": {},
     "output_type": "execute_result"
    }
   ],
   "source": [
    "import os\n",
    "os.system(\"curl https://www.arpa.piemonte.it//rischi_naturali//reportPM10_current.json > input/\" + filename1 +\".json\")"
   ]
  },
  {
   "cell_type": "code",
   "execution_count": 25,
   "metadata": {},
   "outputs": [],
   "source": [
    "import pandas as pd\n",
    "file = pd.read_json(\"input/\" + filename1 +\".json\")"
   ]
  },
  {
   "cell_type": "code",
   "execution_count": 26,
   "metadata": {},
   "outputs": [
    {
     "data": {
      "text/html": [
       "<div>\n",
       "<style scoped>\n",
       "    .dataframe tbody tr th:only-of-type {\n",
       "        vertical-align: middle;\n",
       "    }\n",
       "\n",
       "    .dataframe tbody tr th {\n",
       "        vertical-align: top;\n",
       "    }\n",
       "\n",
       "    .dataframe thead th {\n",
       "        text-align: right;\n",
       "    }\n",
       "</style>\n",
       "<table border=\"1\" class=\"dataframe\">\n",
       "  <thead>\n",
       "    <tr style=\"text-align: right;\">\n",
       "      <th></th>\n",
       "      <th>data</th>\n",
       "    </tr>\n",
       "  </thead>\n",
       "  <tbody>\n",
       "    <tr>\n",
       "      <th>0</th>\n",
       "      <td>[Baldissero T. (ACEA) - parco, 001018800, 19, ...</td>\n",
       "    </tr>\n",
       "    <tr>\n",
       "      <th>1</th>\n",
       "      <td>[Beinasco (TRM) - Aldo Mei, 001024802, 41, 11,...</td>\n",
       "    </tr>\n",
       "    <tr>\n",
       "      <th>2</th>\n",
       "      <td>[Borgaro T. - Caduti, 001028801, 40,  9, 100, ...</td>\n",
       "    </tr>\n",
       "    <tr>\n",
       "      <th>3</th>\n",
       "      <td>[Ceresole Reale - Diga, 001073800,  6,  0,  89...</td>\n",
       "    </tr>\n",
       "    <tr>\n",
       "      <th>4</th>\n",
       "      <td>[Chieri - Bersezio, 001078802, 44, 16,  89, 20...</td>\n",
       "    </tr>\n",
       "  </tbody>\n",
       "</table>\n",
       "</div>"
      ],
      "text/plain": [
       "                                                data\n",
       "0  [Baldissero T. (ACEA) - parco, 001018800, 19, ...\n",
       "1  [Beinasco (TRM) - Aldo Mei, 001024802, 41, 11,...\n",
       "2  [Borgaro T. - Caduti, 001028801, 40,  9, 100, ...\n",
       "3  [Ceresole Reale - Diga, 001073800,  6,  0,  89...\n",
       "4  [Chieri - Bersezio, 001078802, 44, 16,  89, 20..."
      ]
     },
     "execution_count": 26,
     "metadata": {},
     "output_type": "execute_result"
    }
   ],
   "source": [
    "file.head()"
   ]
  },
  {
   "cell_type": "code",
   "execution_count": 27,
   "metadata": {},
   "outputs": [],
   "source": [
    "file.to_csv(\"file.csv\")"
   ]
  },
  {
   "cell_type": "code",
   "execution_count": 29,
   "metadata": {},
   "outputs": [
    {
     "name": "stderr",
     "output_type": "stream",
     "text": [
      "--2023-02-16 14:27:27--  http://www.arpa.piemonte.it/rischi_naturali/snippets_arpa/report_giornaliero_pm10/\n",
      "Resolving www.arpa.piemonte.it (www.arpa.piemonte.it)... 158.102.7.107\n",
      "Connecting to www.arpa.piemonte.it (www.arpa.piemonte.it)|158.102.7.107|:80... connected.\n",
      "HTTP request sent, awaiting response... 200 OK\n",
      "Length: 59556 (58K) [text/html]\n",
      "Saving to: 'index.html'\n",
      "\n",
      "     0K .......... .......... .......... .......... .......... 85% 1.35M 0s\n",
      "    50K ........                                              100% 6.26M=0.04s\n",
      "\n",
      "2023-02-16 14:27:27 (1.52 MB/s) - 'index.html' saved [59556/59556]\n",
      "\n"
     ]
    },
    {
     "data": {
      "text/plain": [
       "0"
      ]
     },
     "execution_count": 29,
     "metadata": {},
     "output_type": "execute_result"
    }
   ],
   "source": [
    "os.system(\"wget http://www.arpa.piemonte.it/rischi_naturali/snippets_arpa/report_giornaliero_pm10/ > test.html\")"
   ]
  },
  {
   "cell_type": "code",
   "execution_count": 30,
   "metadata": {},
   "outputs": [
    {
     "name": "stderr",
     "output_type": "stream",
     "text": [
      "  % Total    % Received % Xferd  Average Speed   Time    Time     Time  Current\n",
      "                                 Dload  Upload   Total   Spent    Left  Speed\n",
      "100 90351  100 90351    0     0  50726      0  0:00:01  0:00:01 --:--:-- 53147\n"
     ]
    },
    {
     "data": {
      "text/plain": [
       "0"
      ]
     },
     "execution_count": 30,
     "metadata": {},
     "output_type": "execute_result"
    }
   ],
   "source": [
    "os.system(\"curl http://www.arpa.piemonte.it/rischinaturali/tematismi/aria/osservazioni/PM10/Dati-giornalieri-PM10.html > week_summary.html\")"
   ]
  },
  {
   "cell_type": "code",
   "execution_count": null,
   "metadata": {},
   "outputs": [],
   "source": []
  }
 ],
 "metadata": {
  "kernelspec": {
   "display_name": "raquel_dev",
   "language": "python",
   "name": "python3"
  },
  "language_info": {
   "codemirror_mode": {
    "name": "ipython",
    "version": 3
   },
   "file_extension": ".py",
   "mimetype": "text/x-python",
   "name": "python",
   "nbconvert_exporter": "python",
   "pygments_lexer": "ipython3",
   "version": "3.10.9"
  },
  "orig_nbformat": 4,
  "vscode": {
   "interpreter": {
    "hash": "b15c2558a0fa5e2769224d371a913ee2b33a3bfcc46a41899c47855fa8428674"
   }
  }
 },
 "nbformat": 4,
 "nbformat_minor": 2
}
